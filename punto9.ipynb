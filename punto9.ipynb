{
 "cells": [
  {
   "cell_type": "code",
   "execution_count": 2,
   "metadata": {},
   "outputs": [
    {
     "name": "stdout",
     "output_type": "stream",
     "text": [
      "bogota\n"
     ]
    }
   ],
   "source": [
    "  x=str(input(\"ingrese un pais de America en minusculas\"))\n",
    "#america del norte\n",
    "if x == str(\"canada\"):\n",
    "    print(\"otawwa\")\n",
    "elif x== str(\"estados unidos\"):\n",
    "    print(\"washington dc\")\n",
    "elif x== str(\"mexico\"):\n",
    "    print(\"ciudad de mexico\")\n",
    "#america central\n",
    "elif x== str(\"belice\"):\n",
    "    print(\"belmopan\")\n",
    "elif x== str(\"costa rica\"):\n",
    "    print(\"san jose\")\n",
    "elif x== str(\"el salvador\"):\n",
    "    print(\"san salvador\")\n",
    "elif x== str(\"guatemala\"):\n",
    "    print(\"ciudad de guatemala\")\n",
    "elif x== str(\"honduras\"):\n",
    "    print(\"tegucigalpa\")\n",
    "elif x== str(\"nicaragua\"):\n",
    "    print(\"managua\")\n",
    "elif x== str(\"panama\"):\n",
    "    print(\"panama\")\n",
    "#america del sur\n",
    "elif x== str(\"argentina\"):\n",
    "    print(\"buenos aires\")\n",
    "elif x== str(\"bolivia\"):\n",
    "    print(\"sucre\")\n",
    "elif x== str(\"brasil\"):\n",
    "    print(\"brasilia\")\n",
    "elif x== str(\"chile\"):\n",
    "    print(\"santiago de chile\")\n",
    "elif x== str(\"colombia\"):\n",
    "    print(\"bogota\")\n",
    "elif x== str(\"ecuador\"):\n",
    "    print(\"quito\")\n",
    "elif x== str(\"paraguay\"):\n",
    "    print(\"asuncion\")\n",
    "elif x== str(\"peru\"):\n",
    "    print(\"lima\")\n",
    "elif x== str(\"surinam\"):\n",
    "    print(\"parabarimo\")\n",
    "elif x== str(\"trinidad y tobago\"):\n",
    "    print(\"puerto españa\")\n",
    "elif x== str(\"uruguay\"):\n",
    "    print(\"montevideo\")\n",
    "elif x== str(\"venezuela\"):\n",
    "    print(\"caracas\")\n",
    "#Las santillas\n",
    "elif x== str(\"antigua y barbuda\"):\n",
    "    print(\"saint john\")\n",
    "elif x== str(\"bahamas\"):\n",
    "    print(\"nasau\")\n",
    "elif x== str(\"barbados\"):\n",
    "    print(\"bridgetown\")\n",
    "elif x== str(\"cuba\"):\n",
    "    print(\"la habana\")\n",
    "elif x== str(\"dominica\"):\n",
    "    print(\"roseau\")\n",
    "elif x== str(\"granada\"):\n",
    "    print(\"georgetown\")\n",
    "elif x== str(\"haiti\"):\n",
    "    print(\"puerto principe\")\n",
    "elif x== str(\"jamaica\"):\n",
    "    print(\"kingston\")\n",
    "elif x== str(\"republica dominicana\"):\n",
    "    print(\"santo domingo\")\n",
    "elif x== str(\"san cristobal y nieves\"):\n",
    "    print(\"basseterre\")\n",
    "elif x== str(\"san vicente y las granadinas\"):\n",
    "    print(\"kingstown\")\n",
    "elif x== str(\"santa lucia\"):\n",
    "    print(\"castries\")\n",
    "else:\n",
    "    print(\"Pais no identificado, o no digitaste el pais en minusculas\")"
   ]
  }
 ],
 "metadata": {
  "kernelspec": {
   "display_name": "Python 3",
   "language": "python",
   "name": "python3"
  },
  "language_info": {
   "codemirror_mode": {
    "name": "ipython",
    "version": 3
   },
   "file_extension": ".py",
   "mimetype": "text/x-python",
   "name": "python",
   "nbconvert_exporter": "python",
   "pygments_lexer": "ipython3",
   "version": "3.11.2"
  },
  "orig_nbformat": 4
 },
 "nbformat": 4,
 "nbformat_minor": 2
}
