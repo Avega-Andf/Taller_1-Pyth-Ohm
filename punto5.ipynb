{
 "cells": [
  {
   "cell_type": "code",
   "execution_count": 4,
   "metadata": {},
   "outputs": [
    {
     "name": "stdout",
     "output_type": "stream",
     "text": [
      "la suma de 1.0 y 1.0 es menor que 4.0\n"
     ]
    }
   ],
   "source": [
    "x=float(input(\"ingrese el primer numero: \"))\n",
    "y=float(input(\"ingrese el segundo numero: \"))\n",
    "z=float(input(\"ingrese el tercer numero: \"))\n",
    "if x+y > z:\n",
    "    print(\"la suma de \" +str(x)+ \" y \" +str(y)+ \" es mayor que \" +str(z) )\n",
    "elif x+y < z:\n",
    "    print(\"la suma de \" +str(x)+ \" y \" +str(y)+ \" es menor que \" +str(z) )\n",
    "else:\n",
    "    print(\"la suma de \" +str(x)+ \" y \" +str(y)+ \" es igual a \" +str(z) )"
   ]
  }
 ],
 "metadata": {
  "kernelspec": {
   "display_name": "Python 3",
   "language": "python",
   "name": "python3"
  },
  "language_info": {
   "codemirror_mode": {
    "name": "ipython",
    "version": 3
   },
   "file_extension": ".py",
   "mimetype": "text/x-python",
   "name": "python",
   "nbconvert_exporter": "python",
   "pygments_lexer": "ipython3",
   "version": "3.11.2"
  },
  "orig_nbformat": 4
 },
 "nbformat": 4,
 "nbformat_minor": 2
}
